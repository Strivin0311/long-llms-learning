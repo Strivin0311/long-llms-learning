{
 "cells": [
  {
   "cell_type": "code",
   "execution_count": 1,
   "metadata": {
    "notebookRunGroups": {
     "groupValue": "1"
    }
   },
   "outputs": [],
   "source": [
    "import pyperclip\n",
    "import requests\n",
    "from bs4 import BeautifulSoup\n",
    "\n",
    "from selenium import webdriver\n",
    "from selenium.webdriver.common.by import By\n",
    "from selenium.webdriver.support.ui import WebDriverWait\n",
    "from selenium.webdriver.support import expected_conditions as EC\n",
    "from selenium.webdriver.chrome.options import Options"
   ]
  },
  {
   "cell_type": "code",
   "execution_count": 2,
   "metadata": {
    "notebookRunGroups": {
     "groupValue": "1"
    }
   },
   "outputs": [],
   "source": [
    "def get_from_google_scholar(scholar_url, paper_link=True, citation=True, title=True):\n",
    "    option = Options()\n",
    "    option.add_argument('--headless')\n",
    "    driver = webdriver.Chrome(options=option)\n",
    "\n",
    "    title_content = \"\"\n",
    "    plink = \"\"\n",
    "    bibtex_content = \"\"\n",
    "\n",
    "    try:\n",
    "        # Open the Google Scholar page\n",
    "        driver.get(scholar_url)\n",
    "\n",
    "        if title:\n",
    "            title_h3 = driver.find_element(By.CSS_SELECTOR, \"h3.gs_rt\")\n",
    "            title_a = title_h3.find_element(By.TAG_NAME, 'a')\n",
    "            title_content = title_a.text\n",
    "        if paper_link:\n",
    "            try:\n",
    "                pdf_div = driver.find_element(By.CSS_SELECTOR, \"div.gs_or_ggsm\")\n",
    "                pdf_a = pdf_div.find_element(By.TAG_NAME, \"a\")\n",
    "                plink = pdf_a.get_attribute('href')\n",
    "            except:\n",
    "                title_h3 = driver.find_element(By.CSS_SELECTOR, \"h3.gs_rt\")\n",
    "                title_a = title_h3.find_element(By.TAG_NAME, 'a') \n",
    "                plink = title_a.get_attribute('href')\n",
    "        if citation:\n",
    "            # Locate the \"Cite\" button using its text content\n",
    "            cite_button = driver.find_element(By.CSS_SELECTOR, \"a.gs_or_cit.gs_or_btn.gs_nph\")\n",
    "\n",
    "            # Click the \"Cite\" button to reveal the citation options\n",
    "            cite_button.click()\n",
    "            wait = WebDriverWait(driver, 15)\n",
    "            bibtex_a = wait.until(EC.visibility_of_all_elements_located((By.LINK_TEXT, 'BibTeX')))[0]\n",
    "\n",
    "            # Locate the \"BibTeX\" option using its text content\n",
    "            # bibtex_option = driver.find_element_by_xpath(\"//a[contains(text(), 'BibTeX')]\")\n",
    "            bibtex_link = bibtex_a.get_attribute('href')\n",
    "            driver.get(bibtex_link)\n",
    "            bibtex_content = driver.find_element(By.CSS_SELECTOR, 'pre').text\n",
    "    finally:\n",
    "        # Close the WebDriver\n",
    "        driver.quit()\n",
    "        return title_content, plink, bibtex_content"
   ]
  },
  {
   "cell_type": "markdown",
   "metadata": {},
   "source": [
    "#### generate the file title"
   ]
  },
  {
   "cell_type": "code",
   "execution_count": 3,
   "metadata": {
    "notebookRunGroups": {
     "groupValue": "1"
    }
   },
   "outputs": [],
   "source": [
    "def gen_file_title(pr=True):\n",
    "    title = input()\n",
    "\n",
    "    title_template = f\"\"\"# {title}\n",
    "*Here's some resources about {title}*\"\"\"\n",
    "    if pr:\n",
    "        print(title_template)\n",
    "        pyperclip.copy(title_template)\n",
    "        return\n",
    "\n",
    "    return title_template"
   ]
  },
  {
   "cell_type": "code",
   "execution_count": 11,
   "metadata": {},
   "outputs": [
    {
     "name": "stdout",
     "output_type": "stream",
     "text": [
      "# Other DGMs\n",
      "*Here's some resources about Other DGMs*\n"
     ]
    }
   ],
   "source": [
    "gen_file_title()"
   ]
  },
  {
   "cell_type": "markdown",
   "metadata": {},
   "source": [
    "#### generate the resource title"
   ]
  },
  {
   "cell_type": "code",
   "execution_count": 4,
   "metadata": {
    "notebookRunGroups": {
     "groupValue": "1"
    }
   },
   "outputs": [],
   "source": [
    "def gen_resource_title(pr=True, resource_title=\"\"):\n",
    "    if resource_title == \"\":\n",
    "        resource_title = input(\"title: \")\n",
    "    read_tag = input(\"Have you read it? (yes/no, default no)\")\n",
    "    if read_tag.lower() == \"no\" or read_tag.lower() == \"\":\n",
    "        read_tag = \"UNREAD\"\n",
    "    elif read_tag.lower() == \"yes\":\n",
    "        read_tag = \"READ\"\n",
    "    else:\n",
    "        read_tag = \"UNKNOWN\"\n",
    "    resource_template = f\"#### {resource_title} [`{read_tag}`]\"\n",
    "\n",
    "    if pr:\n",
    "        print(resource_template)\n",
    "        pyperclip.copy(resource_template)\n",
    "        return\n",
    "\n",
    "    return resource_template"
   ]
  },
  {
   "cell_type": "code",
   "execution_count": 96,
   "metadata": {},
   "outputs": [
    {
     "name": "stdout",
     "output_type": "stream",
     "text": [
      "#### Video Diffusion Models [`READ`]\n"
     ]
    }
   ],
   "source": [
    "gen_resource_title()"
   ]
  },
  {
   "cell_type": "markdown",
   "metadata": {},
   "source": [
    "#### generate the book link with extraction code(baidu cloud disk)"
   ]
  },
  {
   "cell_type": "code",
   "execution_count": 5,
   "metadata": {
    "notebookRunGroups": {
     "groupValue": "1"
    }
   },
   "outputs": [],
   "source": [
    "# s = \"链接: https://pan.baidu.com/s/1DeAIAIR_oUW9zLiX6eYc4A 提取码: e83d \\n--来自百度网盘超级会员v2的分享\"\n",
    "\n",
    "def gen_baidu_cloud_link(pr=True):\n",
    "    s = input()\n",
    "\n",
    "    link = s.split(': ')[1].split()[0]\n",
    "    ext_code = s.split(': ')[2].split()[0]\n",
    "    template = f\"book link: [here]({link}), with extraction code: `{ext_code}`\"\n",
    "    \n",
    "    if pr:\n",
    "        print(template)\n",
    "        pyperclip.copy(template)\n",
    "        return\n",
    "\n",
    "    return template"
   ]
  },
  {
   "cell_type": "code",
   "execution_count": 38,
   "metadata": {},
   "outputs": [
    {
     "name": "stdout",
     "output_type": "stream",
     "text": [
      "book link: [here](https://pan.baidu.com/s/1ZhNKO0aEVWdHe-GEiJyn2g), with extraction code: `hahg`\n"
     ]
    }
   ],
   "source": [
    "gen_baidu_cloud_link()"
   ]
  },
  {
   "cell_type": "markdown",
   "metadata": {},
   "source": [
    "#### generate the paper link"
   ]
  },
  {
   "cell_type": "code",
   "execution_count": 6,
   "metadata": {
    "notebookRunGroups": {
     "groupValue": "1"
    }
   },
   "outputs": [],
   "source": [
    "def gen_paper_link(pr=True, paper_link=\"\", citation=\"\"):\n",
    "    if paper_link == \"\":\n",
    "        paper_link = input(\"link: \")\n",
    "    if citation == \"\":\n",
    "        citation = input(\"citation: \")\n",
    "\n",
    "    if paper_link == \"\" or citation == \"\":\n",
    "        google_scholar_link = input(\"google scholar link: \")\n",
    "        if google_scholar_link != \"\":\n",
    "            _, p, c = get_from_google_scholar(google_scholar_link,\n",
    "                                               paper_link=paper_link == \"\",\n",
    "                                               citation=citation == \"\",\n",
    "                                               title=False\n",
    "                                               )\n",
    "            if paper_link == \"\": paper_link = p\n",
    "            if citation == \"\": citation = c\n",
    "\n",
    "    paper_template = f\"\"\"\n",
    "paper link: [here]({paper_link})\n",
    "\n",
    "citation: \n",
    "```bibtex\n",
    "{citation}\n",
    "```\n",
    "    \"\"\"\n",
    "    if pr:\n",
    "        print(paper_template)\n",
    "        pyperclip.copy(paper_template)\n",
    "        return\n",
    "\n",
    "    return paper_template"
   ]
  },
  {
   "cell_type": "code",
   "execution_count": 134,
   "metadata": {},
   "outputs": [
    {
     "name": "stdout",
     "output_type": "stream",
     "text": [
      "\n",
      "paper link: [here](https://www.semanticscholar.org/paper/Understanding-the-exploding-gradient-problem-Pascanu-Mikolov/c5145b1d15fea9340840cc8bb6f0e46e8934827f)\n",
      "\n",
      "citation: \n",
      "```bibtex\n",
      "\n",
      "```\n",
      "    \n"
     ]
    }
   ],
   "source": [
    "gen_paper_link()"
   ]
  },
  {
   "cell_type": "markdown",
   "metadata": {},
   "source": [
    "#### generate the notebook link"
   ]
  },
  {
   "cell_type": "code",
   "execution_count": 7,
   "metadata": {
    "notebookRunGroups": {
     "groupValue": "1"
    }
   },
   "outputs": [],
   "source": [
    "def gen_notebooke_link(pr=True):\n",
    "    notebook_file = input(\"filename: \")\n",
    "    notebook_theme = input(\"theme: \")\n",
    "    notebook_template = f\"here's a notebook about `{notebook_theme}`, including its formula and visualization: [here](../../notebooks/{notebook_file}.ipynb)\"\n",
    "    if pr:\n",
    "        print(notebook_template)\n",
    "        pyperclip.copy(notebook_template)\n",
    "        return\n",
    "\n",
    "    return notebook_template"
   ]
  },
  {
   "cell_type": "code",
   "execution_count": 30,
   "metadata": {},
   "outputs": [
    {
     "name": "stdout",
     "output_type": "stream",
     "text": [
      "here's a notebook about `WGAN`, including its formula and visualization: [here](../../notebooks/wgan-cifar10.ipynb)\n"
     ]
    }
   ],
   "source": [
    "gen_notebooke_link()"
   ]
  },
  {
   "cell_type": "markdown",
   "metadata": {},
   "source": [
    "#### generate the main interested field note"
   ]
  },
  {
   "cell_type": "code",
   "execution_count": 8,
   "metadata": {
    "notebookRunGroups": {
     "groupValue": "1"
    }
   },
   "outputs": [],
   "source": [
    "def gen_main_interested_field(pr=True):\n",
    "    repo_link = input(\"repo link: \")\n",
    "    repo_template = f\"*Since this is one of the author's `main interested fields`, you may refer to another individual repo for this tech: [here]({repo_link})*\"\n",
    "    if pr:\n",
    "        print(repo_template)\n",
    "        pyperclip.copy(repo_template)\n",
    "        return\n",
    "\n",
    "    return repo_template"
   ]
  },
  {
   "cell_type": "code",
   "execution_count": null,
   "metadata": {},
   "outputs": [],
   "source": [
    "gen_main_interested_field()"
   ]
  },
  {
   "cell_type": "markdown",
   "metadata": {},
   "source": [
    "#### generate a paper resource pipeline"
   ]
  },
  {
   "cell_type": "code",
   "execution_count": 9,
   "metadata": {
    "notebookRunGroups": {
     "groupValue": "1"
    }
   },
   "outputs": [],
   "source": [
    "def gen_paper_resource_pipeline(pr=True):\n",
    "    \n",
    "    url = input('google scholar url: ')\n",
    "    resouce_title, paper_link, citation = get_from_google_scholar(url)\n",
    "\n",
    "    resource_title = gen_resource_title(pr=False, resource_title=resouce_title)\n",
    "    paper_link = gen_paper_link(pr=False, paper_link=paper_link, citation=citation)\n",
    "\n",
    "    pipe = resource_title + \"\\n\" + paper_link\n",
    "    if pr:\n",
    "        print(pr)\n",
    "        pyperclip.copy(pipe)\n",
    "        return\n",
    "\n",
    "    return pipe"
   ]
  },
  {
   "cell_type": "code",
   "execution_count": 11,
   "metadata": {},
   "outputs": [
    {
     "name": "stdout",
     "output_type": "stream",
     "text": [
      "True\n"
     ]
    }
   ],
   "source": [
    "gen_paper_resource_pipeline()"
   ]
  },
  {
   "cell_type": "code",
   "execution_count": null,
   "metadata": {},
   "outputs": [],
   "source": []
  }
 ],
 "metadata": {
  "kernelspec": {
   "display_name": "Python 3",
   "language": "python",
   "name": "python3"
  },
  "language_info": {
   "codemirror_mode": {
    "name": "ipython",
    "version": 3
   },
   "file_extension": ".py",
   "mimetype": "text/x-python",
   "name": "python",
   "nbconvert_exporter": "python",
   "pygments_lexer": "ipython3",
   "version": "3.11.5"
  },
  "orig_nbformat": 4
 },
 "nbformat": 4,
 "nbformat_minor": 2
}
